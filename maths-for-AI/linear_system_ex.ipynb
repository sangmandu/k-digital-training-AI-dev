{
 "cells": [
  {
   "cell_type": "code",
   "execution_count": 8,
   "metadata": {},
   "outputs": [],
   "source": [
    "import numpy as np"
   ]
  },
  {
   "cell_type": "code",
   "execution_count": 15,
   "metadata": {},
   "outputs": [
    {
     "name": "stdout",
     "output_type": "stream",
     "text": [
      "[[ 3  1  1]\n",
      " [ 1 -2 -1]\n",
      " [ 1  1  1]]\n",
      "(3, 3)\n"
     ]
    }
   ],
   "source": [
    "# mxn행렬\n",
    "A=np.array([[3,1,1], [1,-2,-1], [1,1,1]])\n",
    "print(A)\n",
    "print(np.shape(A))"
   ]
  },
  {
   "cell_type": "code",
   "execution_count": 16,
   "metadata": {},
   "outputs": [
    {
     "name": "stdout",
     "output_type": "stream",
     "text": [
      "[4 1 2]\n",
      "(3,)\n"
     ]
    }
   ],
   "source": [
    "# b (m-벡터)\n",
    "b=np.array([4,1,2])\n",
    "print(b)\n",
    "print(np.shape(b))"
   ]
  },
  {
   "cell_type": "code",
   "execution_count": 17,
   "metadata": {},
   "outputs": [
    {
     "name": "stdout",
     "output_type": "stream",
     "text": [
      "[[ 5.00000000e-01 -7.40148683e-17 -5.00000000e-01]\n",
      " [ 1.00000000e+00 -1.00000000e+00 -2.00000000e+00]\n",
      " [-1.50000000e+00  1.00000000e+00  3.50000000e+00]]\n",
      "(3, 3)\n"
     ]
    }
   ],
   "source": [
    "# 행렬 A의 역행렬\n",
    "A_inv=np.linalg.inv(A)\n",
    "print(A_inv)\n",
    "print(np.shape(A_inv))"
   ]
  },
  {
   "cell_type": "code",
   "execution_count": 18,
   "metadata": {},
   "outputs": [
    {
     "name": "stdout",
     "output_type": "stream",
     "text": [
      "[ 1. -1.  2.]\n",
      "(3,)\n"
     ]
    }
   ],
   "source": [
    "# Ax=b의 해 구하기\n",
    "x=A_inv @ b # @ = matmul (행렬 곱)\n",
    "\n",
    "print(x)\n",
    "print(np.shape(x))"
   ]
  },
  {
   "cell_type": "code",
   "execution_count": 21,
   "metadata": {},
   "outputs": [
    {
     "name": "stdout",
     "output_type": "stream",
     "text": [
      "(3,)\n",
      "[4. 1. 2.]\n",
      "OK\n"
     ]
    }
   ],
   "source": [
    "# 결과 검증하기\n",
    "bb= A @ x\n",
    "\n",
    "print(np.shape(bb))\n",
    "print(bb)\n",
    "\n",
    "# 검증할때, 실제 b와 bb간의 차이의 벡터 놈을 구해서 10^-3보다 작으면 ok\n",
    "# 10^-3의 오차는 ok -> 차이 없다고 본다.\n",
    "if np.linalg.norm(b-bb)<1e-3:\n",
    "    print(\"OK\")\n",
    "else:\n",
    "    print(\"something wrong\")"
   ]
  },
  {
   "cell_type": "code",
   "execution_count": null,
   "metadata": {},
   "outputs": [],
   "source": []
  }
 ],
 "metadata": {
  "kernelspec": {
   "display_name": "Python 3",
   "language": "python",
   "name": "python3"
  },
  "language_info": {
   "codemirror_mode": {
    "name": "ipython",
    "version": 3
   },
   "file_extension": ".py",
   "mimetype": "text/x-python",
   "name": "python",
   "nbconvert_exporter": "python",
   "pygments_lexer": "ipython3",
   "version": "3.7.7"
  }
 },
 "nbformat": 4,
 "nbformat_minor": 4
}
