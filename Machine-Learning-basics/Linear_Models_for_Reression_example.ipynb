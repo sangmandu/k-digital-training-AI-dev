{
  "nbformat": 4,
  "nbformat_minor": 0,
  "metadata": {
    "colab": {
      "name": "Linear Models for Reression_example.ipynb",
      "provenance": [],
      "collapsed_sections": []
    },
    "kernelspec": {
      "name": "python3",
      "display_name": "Python 3"
    }
  },
  "cells": [
    {
      "cell_type": "code",
      "metadata": {
        "id": "Pn39NL3jCa09"
      },
      "source": [
        "import matplotlib.pyplot as plt\n",
        "import seaborn as sns; sns.set()\n",
        "import numpy as np\n",
        "\n",
        "from sklearn.linear_model import LinearRegression\n",
        "\n",
        "model=LinearRegression(fit_intercept=True)"
      ],
      "execution_count": 2,
      "outputs": []
    },
    {
      "cell_type": "code",
      "metadata": {
        "colab": {
          "base_uri": "https://localhost:8080/"
        },
        "id": "nYj_IMMOCm_P",
        "outputId": "df5ad98c-e780-42fa-e464-047a3ea88687"
      },
      "source": [
        "N=1000 #사실 큰 수는 아님\n",
        "M=3\n",
        "rng=np.random.RandomState(1)\n",
        "rng.rand(N,M).shape #(1000,3)\n",
        "\n",
        "X=10*rng.rand(N,M)\n",
        "np.dot(X, [1.5, -2., 1.]).shape #(1000,)"
      ],
      "execution_count": 5,
      "outputs": [
        {
          "output_type": "execute_result",
          "data": {
            "text/plain": [
              "(1000,)"
            ]
          },
          "metadata": {
            "tags": []
          },
          "execution_count": 5
        }
      ]
    },
    {
      "cell_type": "code",
      "metadata": {
        "colab": {
          "base_uri": "https://localhost:8080/"
        },
        "id": "-jToxumADlme",
        "outputId": "084b72fa-0b70-449e-cd40-461da3c8dc15"
      },
      "source": [
        "rng=np.random.RandomState(1)\n",
        "X=10*rng.rand(N,M)\n",
        "y=0.5+np.dot(X, [1.5, -2., 1.])\n",
        "\n",
        "model.fit(X,y)\n",
        "print(model.intercept_)\n",
        "print(model.coef_)"
      ],
      "execution_count": 6,
      "outputs": [
        {
          "output_type": "stream",
          "text": [
            "0.499999999999968\n",
            "[ 1.5 -2.   1. ]\n"
          ],
          "name": "stdout"
        }
      ]
    },
    {
      "cell_type": "markdown",
      "metadata": {
        "id": "zkkcqI_dEZaW"
      },
      "source": [
        "## Normal Equations"
      ]
    },
    {
      "cell_type": "code",
      "metadata": {
        "colab": {
          "base_uri": "https://localhost:8080/"
        },
        "id": "iTdsTpmkD9Dk",
        "outputId": "2809c864-7c51-4509-e04c-8c7f136df13c"
      },
      "source": [
        "import numpy.linalg as LA \n",
        "\n",
        "normal_equation_sol=LA.inv(X.T@X)@X.T@y\n",
        "\n",
        "normal_equation_sol"
      ],
      "execution_count": 8,
      "outputs": [
        {
          "output_type": "execute_result",
          "data": {
            "text/plain": [
              "array([ 1.52825484, -1.96886193,  1.03058857])"
            ]
          },
          "metadata": {
            "tags": []
          },
          "execution_count": 8
        }
      ]
    },
    {
      "cell_type": "markdown",
      "metadata": {
        "id": "uVTTdID5Ezn-"
      },
      "source": [
        "## Small Memory Normal Equations (Online)"
      ]
    },
    {
      "cell_type": "code",
      "metadata": {
        "id": "3wluRijwE8vu"
      },
      "source": [
        "A=np.zeros([M,M])\n",
        "b=np.zeros([M,1])"
      ],
      "execution_count": 9,
      "outputs": []
    },
    {
      "cell_type": "code",
      "metadata": {
        "colab": {
          "base_uri": "https://localhost:8080/"
        },
        "id": "juOuxW9EFPE1",
        "outputId": "a6a6ee5a-7fa2-4ecd-e089-928f531c6859"
      },
      "source": [
        "for i in range(N):\n",
        "  A=A+X[i, np.newaxis].T@X[i, np.newaxis] # A update (outer product)\n",
        "  b=b+X[i, np.newaxis].T*y[i] # b update\n",
        "sol=LA.inv(A)@b\n",
        "sol"
      ],
      "execution_count": 12,
      "outputs": [
        {
          "output_type": "execute_result",
          "data": {
            "text/plain": [
              "array([[ 1.52825484],\n",
              "       [-1.96886193],\n",
              "       [ 1.03058857]])"
            ]
          },
          "metadata": {
            "tags": []
          },
          "execution_count": 12
        }
      ]
    },
    {
      "cell_type": "markdown",
      "metadata": {
        "id": "82Kg9aXfGKRT"
      },
      "source": [
        "계산하는 방법이 다르지만, online의 경우 메모리를 적게 사용(장점)"
      ]
    },
    {
      "cell_type": "markdown",
      "metadata": {
        "id": "cTthmzxyGVl_"
      },
      "source": [
        "## SGD\n"
      ]
    },
    {
      "cell_type": "code",
      "metadata": {
        "id": "5dIjCvDjFgXJ"
      },
      "source": [
        "w=np.zeros([M,1])"
      ],
      "execution_count": 13,
      "outputs": []
    },
    {
      "cell_type": "code",
      "metadata": {
        "id": "5whaXw6fGdP3"
      },
      "source": [
        "eta=0.001 # learning rate (paramter)\n",
        "n_iter=500 # iterations"
      ],
      "execution_count": 14,
      "outputs": []
    },
    {
      "cell_type": "code",
      "metadata": {
        "colab": {
          "base_uri": "https://localhost:8080/"
        },
        "id": "Vpw0SdWBGyou",
        "outputId": "b2120006-31a5-40ef-92ac-a1a57034a563"
      },
      "source": [
        "for i in range(n_iter):\n",
        "  i=i%N\n",
        "  neg_gradient=(y[i]-w.T@X[i, np.newaxis].T)*X[i, np.newaxis].T #=(tn-w.T@X)*X.T\n",
        "  w=w+eta*neg_gradient # w(i+1)=w(i)-eta*grad = w(i)+eta*grad\n",
        "print(w)"
      ],
      "execution_count": 16,
      "outputs": [
        {
          "output_type": "stream",
          "text": [
            "[[ 1.51033015]\n",
            " [-1.93792375]\n",
            " [ 1.0123695 ]]\n"
          ],
          "name": "stdout"
        }
      ]
    },
    {
      "cell_type": "code",
      "metadata": {
        "id": "FL1cyS-iHvKD"
      },
      "source": [
        ""
      ],
      "execution_count": null,
      "outputs": []
    }
  ]
}